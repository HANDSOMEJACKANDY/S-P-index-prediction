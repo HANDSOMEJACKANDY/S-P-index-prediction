{
 "cells": [
  {
   "cell_type": "code",
   "execution_count": 40,
   "metadata": {},
   "outputs": [],
   "source": [
    "import numpy as np\n",
    "import pandas as pd\n",
    "from keras.models import Sequential, Model, load_model\n",
    "from keras.layers import Dense\n",
    "from keras.layers import LSTM, GRU, Conv1D, MaxPooling1D, Flatten, TimeDistributed, Concatenate\n",
    "from keras.layers import GaussianNoise, BatchNormalization, Dropout\n",
    "from keras.layers import Activation, merge, Input, concatenate, Reshape, add\n",
    "from keras.optimizers import Adam, SGD\n",
    "from keras.regularizers import l1, l2\n",
    "from keras.layers.embeddings import Embedding\n",
    "from keras.preprocessing import sequence\n",
    "from keras.callbacks import Callback, LambdaCallback, TensorBoard, ReduceLROnPlateau, EarlyStopping, LearningRateScheduler\n",
    "from keras.utils import np_utils, to_categorical\n",
    "from keras.utils.vis_utils import plot_model \n",
    "import tensorflow as tf\n",
    "import keras.backend as K\n",
    "import matplotlib.pyplot as plt\n",
    "import time\n",
    "%matplotlib inline"
   ]
  },
  {
   "cell_type": "code",
   "execution_count": 3,
   "metadata": {
    "collapsed": true
   },
   "outputs": [],
   "source": [
    "def get_mean(df, window_size=260):\n",
    "    \"\"\"\n",
    "    This function return the mean for each timestamp in the dataframe\n",
    "    \"\"\"\n",
    "    out = df.copy()\n",
    "    \n",
    "    for i in range(window_size, len(df)):\n",
    "        out.iloc[i, :] = df.iloc[i-window_size:i, :].mean()\n",
    "    return out.iloc[window_size:, :]\n",
    "\n",
    "def normalize_data(df, input_size=200):\n",
    "    \"\"\"\n",
    "    Create normalized data\n",
    "    \"\"\"\n",
    "    out = df.copy()\n",
    "    \n",
    "    for i in range(input_size, len(df)):\n",
    "        out.iloc[i, :] = df.iloc[i, :] / df.iloc[i-input_size:i, :].mean() - 1\n",
    "    \n",
    "    return out.iloc[input_size:, :]"
   ]
  },
  {
   "cell_type": "code",
   "execution_count": 33,
   "metadata": {},
   "outputs": [],
   "source": [
    "# load and gather necessary data\n",
    "df = pd.read_csv(\"^GSPC.csv\", index_col=[0], parse_dates=[0]).iloc[:, :4]\n",
    "norm_df = normalize_data(df, input_size=200)\n",
    "mean_df = get_mean(df, window_size=260)"
   ]
  },
  {
   "cell_type": "code",
   "execution_count": 39,
   "metadata": {},
   "outputs": [],
   "source": [
    "# join all necessary data together\n",
    "all_data = norm_df.join(mean_df, how=\"inner\", lsuffix=\"_norm\", rsuffix=\"_mean\")\n",
    "all_data = df.join(all_data, how=\"inner\", lsuffix=\"_raw\")"
   ]
  },
  {
   "cell_type": "code",
   "execution_count": 236,
   "metadata": {},
   "outputs": [],
   "source": [
    "class Strategy:\n",
    "    def __init__(self, confidence=0.5, min_return=1.05, is_optimal=False):\n",
    "        if not is_optimal:\n",
    "            self.indexer = load_model(\"indexer\")\n",
    "            self.confidence = confidence\n",
    "            self.min_return = min_return\n",
    "        self.n_stock = 0\n",
    "        self.money = 1.0\n",
    "        self.is_optimal = is_optimal\n",
    "        \n",
    "    def update(self, df):\n",
    "        # set up conditions for whether our strategy can be executed\n",
    "        overall_min = df.iloc[200:210, 2].min()\n",
    "        overall_max = df.iloc[200:210, 1].max()\n",
    "        \n",
    "        if not self.is_optimal:\n",
    "            # load means for future ten days so that we can recover our normalized output\n",
    "            tmp = df.iloc[200:210, 8:12].mean()\n",
    "            future_means = [tmp.iloc[1], tmp.iloc[2], tmp.iloc[[1, 3]].mean()]\n",
    "            # get output from model and convert back to real value\n",
    "            input_seq = df.iloc[0:200, 4:8]\n",
    "            output = self.indexer.predict(input_seq.values.reshape((1, 200, 4)))\n",
    "            for i, v in enumerate(output):\n",
    "                output[i] = (1+v)*future_means[i]\n",
    "            \n",
    "        if self.money > 0: # then buy\n",
    "            if self.is_optimal:\n",
    "                self.n_stock = self.money / overall_min\n",
    "                self.last_price = overall_min\n",
    "                self.money = 0\n",
    "            else:\n",
    "                cut_point = (self.confidence*output[1] + (1-self.confidence)*output[2])[0, 0]\n",
    "                if cut_point >= overall_min: # strategy succeeded\n",
    "                    self.n_stock = self.money / cut_point\n",
    "                    self.money = 0\n",
    "                    self.last_price = cut_point\n",
    "        elif self.n_stock > 0: # then sell\n",
    "            if self.is_optimal:\n",
    "                if overall_max > self.last_price:\n",
    "                    self.money = self.n_stock * overall_max\n",
    "                    self.n_stock = 0\n",
    "            else:\n",
    "                cut_point = (self.confidence*output[0] + (1-self.confidence)*output[2])[0, 0]\n",
    "                if cut_point > self.last_price*self.min_return and cut_point <= overall_max:\n",
    "                    self.money = self.n_stock * cut_point\n",
    "                    self.n_stock = 0\n",
    "                \n",
    "    def end(self, start_price, end_price):\n",
    "        self.money = self.money + self.n_stock * end_price\n",
    "        inflation = (1 / start_price) * end_price\n",
    "        if self.is_optimal:\n",
    "            print(\"optimal strategy return rate: \", self.money-1)\n",
    "        else:\n",
    "            print(\"our strategy return rate: \", self.money-1)\n",
    "        print(\"null strategy return rate: \", inflation-1)\n",
    "        self.money = 1\n",
    "        self.n_stock = 0"
   ]
  },
  {
   "cell_type": "code",
   "execution_count": 237,
   "metadata": {},
   "outputs": [],
   "source": [
    "class BackTest:\n",
    "    def __init__(self, all_data, strategy, start_index=None):\n",
    "        self.data = all_data\n",
    "        self.strategy = strategy\n",
    "\n",
    "        if start_index is None:\n",
    "            self.start_index = int(0.7*len(all_data))\n",
    "            print(\"back test start from: \", all_data.iloc[self.start_index, :].name)\n",
    "\n",
    "    def back_test(self):\n",
    "        for i in range(self.start_index, len(all_data)-10, 10):\n",
    "            self.strategy.update(all_data.iloc[i-200:i+10, :])\n",
    "        self.strategy.end(all_data.iloc[self.start_index, 0], all_data.iloc[i, 3])"
   ]
  },
  {
   "cell_type": "code",
   "execution_count": 239,
   "metadata": {},
   "outputs": [
    {
     "name": "stdout",
     "output_type": "stream",
     "text": [
      "back test start from:  1998-06-18 00:00:00\n",
      "our strategy return rate:  2.09513230207\n",
      "null strategy return rate:  1.63692872122\n",
      "back test start from:  1998-06-18 00:00:00\n",
      "optimal strategy return rate:  371538.391212\n",
      "null strategy return rate:  1.63692872122\n"
     ]
    }
   ],
   "source": [
    "# for simple strategy based on our model\n",
    "strategy = Strategy(confidence=1, min_return=1.05, is_optimal=False)\n",
    "bt = BackTest(all_data, strategy)\n",
    "bt.back_test()\n",
    "\n",
    "# for simple strategy based on an optimal prediction model\n",
    "strategy = Strategy(is_optimal=True)\n",
    "bt = BackTest(all_data, strategy)\n",
    "bt.back_test()"
   ]
  },
  {
   "cell_type": "markdown",
   "metadata": {},
   "source": [
    "# If we have a super model that predict with an accuracy of 100%, then we can be a billioniar in 10 yrs!!!!!!! Look at that unbelieveable gain of 371538!!!!!!"
   ]
  },
  {
   "cell_type": "markdown",
   "metadata": {},
   "source": [
    "# Our strategy can also outperform inflation: 210% against 163%, which is fair but not the best"
   ]
  }
 ],
 "metadata": {
  "kernelspec": {
   "display_name": "Python 3",
   "language": "python",
   "name": "python3"
  },
  "language_info": {
   "codemirror_mode": {
    "name": "ipython",
    "version": 3
   },
   "file_extension": ".py",
   "mimetype": "text/x-python",
   "name": "python",
   "nbconvert_exporter": "python",
   "pygments_lexer": "ipython3",
   "version": "3.5.4"
  }
 },
 "nbformat": 4,
 "nbformat_minor": 2
}
